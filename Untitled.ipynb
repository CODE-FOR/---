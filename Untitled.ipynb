{
 "cells": [
  {
   "cell_type": "code",
   "execution_count": 5,
   "id": "b6818df3-1137-4ebb-9889-3360b8ea0bd9",
   "metadata": {},
   "outputs": [],
   "source": [
    "import pandas\n",
    "\n",
    "cloud_training_data = pandas.read_csv('./cloud_dataset/submission.csv')"
   ]
  },
  {
   "cell_type": "code",
   "execution_count": 6,
   "id": "9396458d-6e48-44e8-b64c-40a6e52859e2",
   "metadata": {},
   "outputs": [],
   "source": [
    "cloud_type_ser = cloud_training_data['0']"
   ]
  },
  {
   "cell_type": "code",
   "execution_count": 7,
   "id": "01952cfc-32d4-4c7f-97e2-f93ebb033730",
   "metadata": {},
   "outputs": [
    {
     "data": {
      "text/plain": [
       "{1: 5,\n",
       " 2: 383,\n",
       " 3: 2,\n",
       " 4: 12,\n",
       " 5: 11,\n",
       " 6: 1,\n",
       " 7: 20,\n",
       " 8: 56,\n",
       " 9: 2,\n",
       " 10: 296,\n",
       " 11: 11,\n",
       " 12: 3,\n",
       " 13: 10,\n",
       " 14: 5,\n",
       " 15: 31,\n",
       " 16: 4,\n",
       " 17: 34,\n",
       " 18: 182,\n",
       " 19: 150,\n",
       " 20: 183,\n",
       " 21: 55,\n",
       " 22: 8,\n",
       " 23: 2,\n",
       " 24: 7,\n",
       " 25: 382,\n",
       " 26: 2,\n",
       " 27: 101,\n",
       " 28: 85}"
      ]
     },
     "execution_count": 7,
     "metadata": {},
     "output_type": "execute_result"
    }
   ],
   "source": [
    "dict(sorted(cloud_type_ser.value_counts().to_dict().items()))"
   ]
  },
  {
   "cell_type": "code",
   "execution_count": null,
   "id": "4dbdb27b-1a7f-401b-bfbd-76a34ce230ea",
   "metadata": {},
   "outputs": [
    {
     "data": {
      "text/plain": [
       "tensor(1.4076)"
      ]
     },
     "execution_count": 18,
     "metadata": {},
     "output_type": "execute_result"
    }
   ],
   "source": [
    "import torch\n",
    "\n",
    "y = torch.tensor([[1.0, 0.0, 0.0], [1.0, 0.0, 0.0]])\n",
    "p = torch.tensor([[1.0, 2.0, 3.0], [3.0, 2.0, 1.0]])\n",
    "pt = y * p\n",
    "s = torch.nn.Softmax(dim=1)\n",
    "ps =s(p)\n",
    "loss_fn = torch.nn.CrossEntropyLoss()\n",
    "loss_fn(p, y)"
   ]
  },
  {
   "cell_type": "code",
   "execution_count": null,
   "id": "1ca957e8-af0e-4d4f-a0bd-e08eb8b68385",
   "metadata": {},
   "outputs": [
    {
     "data": {
      "text/plain": [
       "tensor([[0.0900, 0.2447, 0.6652],\n",
       "        [0.6652, 0.2447, 0.0900]])"
      ]
     },
     "execution_count": 19,
     "metadata": {},
     "output_type": "execute_result"
    }
   ],
   "source": [
    "ps"
   ]
  },
  {
   "cell_type": "code",
   "execution_count": null,
   "id": "8dee2384-991d-411d-afd1-4043b5842ad5",
   "metadata": {},
   "outputs": [
    {
     "data": {
      "text/plain": [
       "tensor(-1.4076)"
      ]
     },
     "execution_count": 26,
     "metadata": {},
     "output_type": "execute_result"
    }
   ],
   "source": [
    "(torch.log(ps)*y).sum() / ps.size(0)"
   ]
  },
  {
   "cell_type": "code",
   "execution_count": null,
   "id": "a5b32315-573b-4be6-a955-eb3dd86a601e",
   "metadata": {},
   "outputs": [
    {
     "data": {
      "text/plain": [
       "tensor(0.7553)"
      ]
     },
     "execution_count": 21,
     "metadata": {},
     "output_type": "execute_result"
    }
   ],
   "source": [
    "(ps * y).sum()"
   ]
  },
  {
   "cell_type": "code",
   "execution_count": null,
   "id": "f586eed3-10e5-466e-a614-c0d93e8ef53e",
   "metadata": {},
   "outputs": [
    {
     "data": {
      "text/plain": [
       "tensor([[0.0081, 0.0599, 0.4425],\n",
       "        [0.4425, 0.0599, 0.0081]])"
      ]
     },
     "execution_count": 27,
     "metadata": {},
     "output_type": "execute_result"
    }
   ],
   "source": [
    "ps ** 2"
   ]
  },
  {
   "cell_type": "code",
   "execution_count": null,
   "id": "9186b985-77a4-4f14-908c-a11fb4c931c9",
   "metadata": {},
   "outputs": [
    {
     "data": {
      "text/plain": [
       "tensor([[0.0900, 0.2447, 0.6652],\n",
       "        [0.6652, 0.2447, 0.0900]], device='cuda:0')"
      ]
     },
     "execution_count": 28,
     "metadata": {},
     "output_type": "execute_result"
    }
   ],
   "source": [
    "ps.cuda()"
   ]
  },
  {
   "cell_type": "code",
   "execution_count": null,
   "id": "3f0380af-af76-446a-9b7e-1d4afcdd1974",
   "metadata": {},
   "outputs": [],
   "source": []
  }
 ],
 "metadata": {
  "kernelspec": {
   "display_name": "Python 3 (ipykernel)",
   "language": "python",
   "name": "python3"
  },
  "language_info": {
   "codemirror_mode": {
    "name": "ipython",
    "version": 3
   },
   "file_extension": ".py",
   "mimetype": "text/x-python",
   "name": "python",
   "nbconvert_exporter": "python",
   "pygments_lexer": "ipython3",
   "version": "3.10.6"
  }
 },
 "nbformat": 4,
 "nbformat_minor": 5
}
