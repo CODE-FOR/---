{
 "cells": [
  {
   "cell_type": "code",
   "execution_count": 5,
   "id": "b6818df3-1137-4ebb-9889-3360b8ea0bd9",
   "metadata": {},
   "outputs": [],
   "source": [
    "import pandas\n",
    "\n",
    "cloud_training_data = pandas.read_csv('./cloud_dataset/submission.csv')"
   ]
  },
  {
   "cell_type": "code",
   "execution_count": 6,
   "id": "9396458d-6e48-44e8-b64c-40a6e52859e2",
   "metadata": {},
   "outputs": [],
   "source": [
    "cloud_type_ser = cloud_training_data['0']"
   ]
  },
  {
   "cell_type": "code",
   "execution_count": 7,
   "id": "01952cfc-32d4-4c7f-97e2-f93ebb033730",
   "metadata": {},
   "outputs": [
    {
     "data": {
      "text/plain": [
       "{1: 5,\n",
       " 2: 383,\n",
       " 3: 2,\n",
       " 4: 12,\n",
       " 5: 11,\n",
       " 6: 1,\n",
       " 7: 20,\n",
       " 8: 56,\n",
       " 9: 2,\n",
       " 10: 296,\n",
       " 11: 11,\n",
       " 12: 3,\n",
       " 13: 10,\n",
       " 14: 5,\n",
       " 15: 31,\n",
       " 16: 4,\n",
       " 17: 34,\n",
       " 18: 182,\n",
       " 19: 150,\n",
       " 20: 183,\n",
       " 21: 55,\n",
       " 22: 8,\n",
       " 23: 2,\n",
       " 24: 7,\n",
       " 25: 382,\n",
       " 26: 2,\n",
       " 27: 101,\n",
       " 28: 85}"
      ]
     },
     "execution_count": 7,
     "metadata": {},
     "output_type": "execute_result"
    }
   ],
   "source": [
    "dict(sorted(cloud_type_ser.value_counts().to_dict().items()))"
   ]
  },
  {
   "cell_type": "code",
   "execution_count": null,
   "id": "4dbdb27b-1a7f-401b-bfbd-76a34ce230ea",
   "metadata": {},
   "outputs": [
    {
     "data": {
      "text/plain": [
       "tensor(1.4076)"
      ]
     },
     "execution_count": 18,
     "metadata": {},
     "output_type": "execute_result"
    }
   ],
   "source": [
    "import torch\n",
    "\n",
    "y = torch.tensor([[1.0, 0.0, 0.0], [1.0, 0.0, 0.0]])\n",
    "p = torch.tensor([[1.0, 2.0, 3.0], [3.0, 2.0, 1.0]])\n",
    "pt = y * p\n",
    "s = torch.nn.Softmax(dim=1)\n",
    "ps =s(p)\n",
    "loss_fn = torch.nn.CrossEntropyLoss()\n",
    "loss_fn(p, y)"
   ]
  },
  {
   "cell_type": "code",
   "execution_count": null,
   "id": "1ca957e8-af0e-4d4f-a0bd-e08eb8b68385",
   "metadata": {},
   "outputs": [
    {
     "data": {
      "text/plain": [
       "tensor([[0.0900, 0.2447, 0.6652],\n",
       "        [0.6652, 0.2447, 0.0900]])"
      ]
     },
     "execution_count": 19,
     "metadata": {},
     "output_type": "execute_result"
    }
   ],
   "source": [
    "ps"
   ]
  },
  {
   "cell_type": "code",
   "execution_count": null,
   "id": "8dee2384-991d-411d-afd1-4043b5842ad5",
   "metadata": {},
   "outputs": [
    {
     "data": {
      "text/plain": [
       "tensor(-1.4076)"
      ]
     },
     "execution_count": 26,
     "metadata": {},
     "output_type": "execute_result"
    }
   ],
   "source": [
    "(torch.log(ps)*y).sum() / ps.size(0)"
   ]
  },
  {
   "cell_type": "code",
   "execution_count": null,
   "id": "a5b32315-573b-4be6-a955-eb3dd86a601e",
   "metadata": {},
   "outputs": [
    {
     "data": {
      "text/plain": [
       "tensor(0.7553)"
      ]
     },
     "execution_count": 21,
     "metadata": {},
     "output_type": "execute_result"
    }
   ],
   "source": [
    "(ps * y).sum()"
   ]
  },
  {
   "cell_type": "code",
   "execution_count": null,
   "id": "f586eed3-10e5-466e-a614-c0d93e8ef53e",
   "metadata": {},
   "outputs": [
    {
     "data": {
      "text/plain": [
       "tensor([[0.0081, 0.0599, 0.4425],\n",
       "        [0.4425, 0.0599, 0.0081]])"
      ]
     },
     "execution_count": 27,
     "metadata": {},
     "output_type": "execute_result"
    }
   ],
   "source": [
    "ps ** 2"
   ]
  },
  {
   "cell_type": "code",
   "execution_count": null,
   "id": "9186b985-77a4-4f14-908c-a11fb4c931c9",
   "metadata": {},
   "outputs": [
    {
     "data": {
      "text/plain": [
       "tensor([[0.0900, 0.2447, 0.6652],\n",
       "        [0.6652, 0.2447, 0.0900]], device='cuda:0')"
      ]
     },
     "execution_count": 28,
     "metadata": {},
     "output_type": "execute_result"
    }
   ],
   "source": [
    "ps.cuda()"
   ]
  },
  {
   "cell_type": "code",
   "execution_count": 1,
   "id": "04a08327-3ad4-4b53-8747-8605de8c3036",
   "metadata": {},
   "outputs": [],
   "source": [
    "import torch\n",
    "device = 'cuda' if torch.cuda.is_available() else 'cpu'"
   ]
  },
  {
   "cell_type": "code",
   "execution_count": 9,
   "id": "3f0380af-af76-446a-9b7e-1d4afcdd1974",
   "metadata": {},
   "outputs": [
    {
     "data": {
      "text/plain": [
       "10"
      ]
     },
     "execution_count": 9,
     "metadata": {},
     "output_type": "execute_result"
    }
   ],
   "source": [
    "\n",
    "x = torch.tensor([1, 2])\n",
    "y = torch.tensor([3, 4])\n",
    "x, y = x.to(device), y.to(device)\n",
    "with torch.no_grad():\n",
    "    z = x + y\n",
    "z.cpu().sum().item()"
   ]
  },
  {
   "cell_type": "code",
   "execution_count": 13,
   "id": "a95c680e-eddf-4b04-a545-43d1bef580da",
   "metadata": {},
   "outputs": [],
   "source": [
    "x ,y = None, None"
   ]
  },
  {
   "cell_type": "code",
   "execution_count": 14,
   "id": "c7935c52-0472-4046-beda-6efe33e29cd7",
   "metadata": {},
   "outputs": [],
   "source": [
    "z = None"
   ]
  },
  {
   "cell_type": "code",
   "execution_count": 15,
   "id": "7e5f3eb7-3f79-4ac2-945c-a9aace8c0841",
   "metadata": {},
   "outputs": [],
   "source": [
    "import gc\n",
    "gc.collect()\n",
    "with torch.no_grad():\n",
    "    torch.cuda.empty_cache()"
   ]
  },
  {
   "cell_type": "code",
   "execution_count": 7,
   "id": "0b924521-28b9-4971-b56a-524e8474a843",
   "metadata": {},
   "outputs": [
    {
     "name": "stdout",
     "output_type": "stream",
     "text": [
      "|===========================================================================|\n",
      "|                  PyTorch CUDA memory summary, device ID 0                 |\n",
      "|---------------------------------------------------------------------------|\n",
      "|            CUDA OOMs: 0            |        cudaMalloc retries: 0         |\n",
      "|===========================================================================|\n",
      "|        Metric         | Cur Usage  | Peak Usage | Tot Alloc  | Tot Freed  |\n",
      "|---------------------------------------------------------------------------|\n",
      "| Allocated memory      |       0 B  |    1536 B  |    1536 B  |    1536 B  |\n",
      "|       from large pool |       0 B  |       0 B  |       0 B  |       0 B  |\n",
      "|       from small pool |       0 B  |    1536 B  |    1536 B  |    1536 B  |\n",
      "|---------------------------------------------------------------------------|\n",
      "| Active memory         |       0 B  |    1536 B  |    1536 B  |    1536 B  |\n",
      "|       from large pool |       0 B  |       0 B  |       0 B  |       0 B  |\n",
      "|       from small pool |       0 B  |    1536 B  |    1536 B  |    1536 B  |\n",
      "|---------------------------------------------------------------------------|\n",
      "| GPU reserved memory   |       0 B  |    2048 KB |    2048 KB |    2048 KB |\n",
      "|       from large pool |       0 B  |       0 KB |       0 KB |       0 KB |\n",
      "|       from small pool |       0 B  |    2048 KB |    2048 KB |    2048 KB |\n",
      "|---------------------------------------------------------------------------|\n",
      "| Non-releasable memory |       0 B  |    2047 KB |    2048 KB |    2048 KB |\n",
      "|       from large pool |       0 B  |       0 KB |       0 KB |       0 KB |\n",
      "|       from small pool |       0 B  |    2047 KB |    2048 KB |    2048 KB |\n",
      "|---------------------------------------------------------------------------|\n",
      "| Allocations           |       0    |       3    |       3    |       3    |\n",
      "|       from large pool |       0    |       0    |       0    |       0    |\n",
      "|       from small pool |       0    |       3    |       3    |       3    |\n",
      "|---------------------------------------------------------------------------|\n",
      "| Active allocs         |       0    |       3    |       3    |       3    |\n",
      "|       from large pool |       0    |       0    |       0    |       0    |\n",
      "|       from small pool |       0    |       3    |       3    |       3    |\n",
      "|---------------------------------------------------------------------------|\n",
      "| GPU reserved segments |       0    |       1    |       1    |       1    |\n",
      "|       from large pool |       0    |       0    |       0    |       0    |\n",
      "|       from small pool |       0    |       1    |       1    |       1    |\n",
      "|---------------------------------------------------------------------------|\n",
      "| Non-releasable allocs |       0    |       2    |       2    |       2    |\n",
      "|       from large pool |       0    |       0    |       0    |       0    |\n",
      "|       from small pool |       0    |       2    |       2    |       2    |\n",
      "|---------------------------------------------------------------------------|\n",
      "| Oversize allocations  |       0    |       0    |       0    |       0    |\n",
      "|---------------------------------------------------------------------------|\n",
      "| Oversize GPU segments |       0    |       0    |       0    |       0    |\n",
      "|===========================================================================|\n",
      "\n"
     ]
    }
   ],
   "source": [
    "print(torch.cuda.memory_summary())"
   ]
  },
  {
   "cell_type": "code",
   "execution_count": 16,
   "id": "c2e9d197-4094-4244-b871-9aad4c9ce43f",
   "metadata": {},
   "outputs": [
    {
     "name": "stdout",
     "output_type": "stream",
     "text": [
      "0\n"
     ]
    }
   ],
   "source": [
    "print(torch.cuda.memory_allocated())"
   ]
  },
  {
   "cell_type": "code",
   "execution_count": 17,
   "id": "20c8d26e-5d23-4b1d-a1f0-069a7f9166b3",
   "metadata": {},
   "outputs": [
    {
     "name": "stdout",
     "output_type": "stream",
     "text": [
      "0\n"
     ]
    }
   ],
   "source": [
    "print(torch.cuda.memory.)"
   ]
  },
  {
   "cell_type": "code",
   "execution_count": null,
   "id": "64646d55-ae5d-41b5-a88d-3e25a69d7543",
   "metadata": {},
   "outputs": [],
   "source": []
  }
 ],
 "metadata": {
  "kernelspec": {
   "display_name": "Python 3 (ipykernel)",
   "language": "python",
   "name": "python3"
  },
  "language_info": {
   "codemirror_mode": {
    "name": "ipython",
    "version": 3
   },
   "file_extension": ".py",
   "mimetype": "text/x-python",
   "name": "python",
   "nbconvert_exporter": "python",
   "pygments_lexer": "ipython3",
   "version": "3.10.6"
  }
 },
 "nbformat": 4,
 "nbformat_minor": 5
}
