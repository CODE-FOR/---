{
 "cells": [
  {
   "cell_type": "code",
   "execution_count": 1,
   "id": "ba28db67-d77c-49ed-96cd-1f2177e7ac04",
   "metadata": {},
   "outputs": [],
   "source": [
    "import torch\n",
    "from torchvision import datasets, models, transforms\n",
    "from torch.nn import Linear"
   ]
  },
  {
   "cell_type": "markdown",
   "id": "4a701cbf-1b94-4c76-ad2b-20e0c7b59062",
   "metadata": {},
   "source": [
    "## 超参数"
   ]
  },
  {
   "cell_type": "code",
   "execution_count": 2,
   "id": "3471a3dc-1667-4ac5-9181-3c7ca19e2449",
   "metadata": {},
   "outputs": [
    {
     "data": {
      "text/plain": [
       "<torch._C.Generator at 0x7ff9ddf36b30>"
      ]
     },
     "execution_count": 2,
     "metadata": {},
     "output_type": "execute_result"
    }
   ],
   "source": [
    "batch_size = 64\n",
    "cloud_num = 28\n",
    "focal_loss_gmma = 2.0\n",
    "epochs = 150\n",
    "model_name = 'resnet-50'\n",
    "optimizer_name = 'radam'\n",
    "scheduler_name = 'cosine_annealing_warm_restarts'\n",
    "# scheduler_name = 'cosine_annealing'\n",
    "# scheduler_name = 'none'\n",
    "T_0 = 15\n",
    "torch.manual_seed(42)"
   ]
  },
  {
   "cell_type": "markdown",
   "id": "e7d22b4d-38c9-47e8-b8d1-b4458f67b0b4",
   "metadata": {},
   "source": [
    "## 模型加载\n",
    "\n",
    "使用`torchvision.models`中的resnet50作为预训练模型，并修改其全连接层。"
   ]
  },
  {
   "cell_type": "code",
   "execution_count": 3,
   "id": "9e02ba30-e02e-472b-bfca-97e173ac22d8",
   "metadata": {},
   "outputs": [],
   "source": [
    "def load_model(cloud_class_nums):\n",
    "    pretrained_model = models.resnet50(weights=models.resnet.ResNet50_Weights.DEFAULT)\n",
    "    num_ftrs = pretrained_model.fc.in_features\n",
    "    pretrained_model.fc = Linear(num_ftrs, cloud_class_nums)\n",
    "    return pretrained_model\n",
    "\n",
    "model = load_model(cloud_num)"
   ]
  },
  {
   "cell_type": "markdown",
   "id": "c08a5517-a516-47b8-aaff-0027fdf8bde3",
   "metadata": {},
   "source": [
    "## 构建数据集类\n",
    "根据`torch`官方文档修正`transform`参数:\n",
    "- 训练阶段:将图片随机切分并`resize`到$224 \\times 224$\n",
    "- 验证阶段:\n",
    "  - 将图片`resize`到$256 \\times 256$\n",
    "  - 截取`center`的$24 \\times 224$"
   ]
  },
  {
   "cell_type": "code",
   "execution_count": 4,
   "id": "bf3de80b-39c3-4987-877d-948ab880d1af",
   "metadata": {},
   "outputs": [],
   "source": [
    "import os\n",
    "from torch.utils.data import Dataset\n",
    "from PIL import Image\n",
    "from utils.autoaugment import ImageNetPolicy\n",
    "\n",
    "class CloudImageDataSet(Dataset):\n",
    "    def __init__(self, img_dir_path, img_set_with_label: dict, data_transforms=None, dataset = ''):\n",
    "        self.imgs = list(img_set_with_label.keys())\n",
    "        self.labels = list(img_set_with_label.values())\n",
    "        self.data_transforms = data_transforms\n",
    "        self.img_dir_path = img_dir_path\n",
    "        self.dataset = dataset\n",
    "        \n",
    "    def __len__(self):\n",
    "        return len(self.imgs)\n",
    "    \n",
    "    def __getitem__(self, k):\n",
    "        img_name = self.imgs[k]\n",
    "        label = torch.nn.functional.one_hot(torch.tensor(self.labels[k] - 1), num_classes=cloud_num).double()\n",
    "        img_path = os.path.join(self.img_dir_path, img_name)\n",
    "        with open(img_path, 'rb') as img_file:\n",
    "            img = Image.open(img_file)\n",
    "            img = img.convert('RGB')\n",
    "        img_file.close()\n",
    "        return self.data_transforms[self.dataset](img), label\n",
    "\n",
    "    \n",
    "data_transforms = {\n",
    "    'Train': transforms.Compose([\n",
    "        transforms.RandomResizedCrop(224),\n",
    "        ImageNetPolicy(),\n",
    "        # transforms.RandomHorizontalFlip(),\n",
    "        transforms.ToTensor(),\n",
    "        transforms.Normalize([0.485, 0.456, 0.406], [0.229, 0.224, 0.225])\n",
    "    ]),\n",
    "    'Test': transforms.Compose([\n",
    "        transforms.Resize(256),\n",
    "        transforms.CenterCrop(224),\n",
    "        transforms.ToTensor(),\n",
    "        transforms.Normalize([0.485, 0.456, 0.406], [0.229, 0.224, 0.225])\n",
    "    ])\n",
    "}"
   ]
  },
  {
   "cell_type": "code",
   "execution_count": 5,
   "id": "c21778da-5579-4cd7-8b78-1e7059dda83d",
   "metadata": {},
   "outputs": [],
   "source": [
    "device = 'cuda' if torch.cuda.is_available() else 'cpu'"
   ]
  },
  {
   "cell_type": "code",
   "execution_count": 6,
   "id": "89093d77-8440-4cf6-8094-8cb081498f3a",
   "metadata": {},
   "outputs": [],
   "source": [
    "import json\n",
    "import pandas\n",
    "\n",
    "train_dataset_df = pandas.read_csv('./cloud_dataset/train.csv').T\n",
    "train_image_name_and_label_set = {}\n",
    "for k, v in train_dataset_df.to_dict().items():\n",
    "    train_image_name_and_label_set[v['FileName']] = v['Code']\n",
    "val_dataset_df = pandas.read_csv('./cloud_dataset/standard_answer.csv').T\n",
    "val_image_name_and_label_set = {}\n",
    "for k, v in val_dataset_df.to_dict().items():\n",
    "    val_image_name_and_label_set[v['FileName']] = v['Code']"
   ]
  },
  {
   "cell_type": "code",
   "execution_count": 7,
   "id": "cf46454d-87ea-4a41-a279-56e6e9f2510f",
   "metadata": {
    "tags": []
   },
   "outputs": [],
   "source": [
    "model = model.to(device)"
   ]
  },
  {
   "cell_type": "markdown",
   "id": "866d355c-2626-4b79-90b0-c249d1b7253f",
   "metadata": {},
   "source": [
    "## Focal Loss\n",
    "\n",
    "$-(1-p_t)log(p_t)$"
   ]
  },
  {
   "cell_type": "code",
   "execution_count": 8,
   "id": "4b1da06b-3421-4ce4-9fd1-e9ab2da3a917",
   "metadata": {},
   "outputs": [],
   "source": [
    "from torch.nn import Softmax, CrossEntropyLoss\n",
    "\n",
    "class FocalLoss(torch.nn.Module):\n",
    "    def __init__(self, gmma):\n",
    "        super().__init__()\n",
    "        self.gmma = gmma\n",
    "        self.softmax = Softmax(dim=1)\n",
    "        self.cross_entropy_loss = CrossEntropyLoss()\n",
    "    \n",
    "    def forward(self, pred, label):\n",
    "        pred_after_softmax = self.softmax(pred)\n",
    "        ce = - torch.log(pred_after_softmax) * label\n",
    "        focal_loss = (((1 - pred_after_softmax * label) ** self.gmma) * ce).sum() / batch_size\n",
    "        return focal_loss"
   ]
  },
  {
   "cell_type": "code",
   "execution_count": 9,
   "id": "fab05630-751a-400e-a552-f76da18a18c8",
   "metadata": {},
   "outputs": [
    {
     "name": "stdout",
     "output_type": "stream",
     "text": [
      "Epoch 00000: adjusting learning rate of group 0 to 1.0000e-03.\n"
     ]
    }
   ],
   "source": [
    "# loss_fn = torch.nn.CrossEntropyLoss()\n",
    "loss_fn = FocalLoss(gmma=focal_loss_gmma)\n",
    "# optimizer = torch.optim.SGD(model.parameters(), lr=0.001, momentum=0.9)\n",
    "optimizer = torch.optim.RAdam(model.parameters(), lr=0.001, betas=(0.9, 0.999), eps=1e-08)\n",
    "scheduler = torch.optim.lr_scheduler.CosineAnnealingWarmRestarts(optimizer, T_0=T_0, T_mult=1, verbose=True)\n",
    "# scheduler = torch.optim.lr_scheduler.CosineAnnealingLR(optimizer, T_max=T_0, verbose=True, eta_min=1e-4)\n",
    "train_dataset = CloudImageDataSet('./cloud_dataset/images/', train_image_name_and_label_set, data_transforms, 'Train')\n",
    "val_dataset = CloudImageDataSet('./cloud_dataset/images', val_image_name_and_label_set, data_transforms, 'Test')"
   ]
  },
  {
   "cell_type": "markdown",
   "id": "953cf192-95ff-446b-acaf-e42e5a406f42",
   "metadata": {},
   "source": [
    "## 训练\n",
    "将`test.csv`中的数据加载，进行`K-Fold`训练"
   ]
  },
  {
   "cell_type": "code",
   "execution_count": 10,
   "id": "712950f1-82ec-435f-ba3c-f90134cab275",
   "metadata": {
    "collapsed": true,
    "jupyter": {
     "outputs_hidden": true
    },
    "tags": []
   },
   "outputs": [
    {
     "data": {
      "image/png": "[encoded data removed]",
      "text/plain": [
       "<Figure size 640x480 with 2 Axes>"
      ]
     },
     "metadata": {},
     "output_type": "display_data"
    },
    {
     "ename": "KeyboardInterrupt",
     "evalue": "",
     "output_type": "error",
     "traceback": [
      "\u001b[0;31m---------------------------------------------------------------------------\u001b[0m",
      "\u001b[0;31mKeyboardInterrupt\u001b[0m                         Traceback (most recent call last)",
      "Cell \u001b[0;32mIn [10], line 34\u001b[0m\n\u001b[1;32m     32\u001b[0m optimizer\u001b[38;5;241m.\u001b[39mzero_grad()\n\u001b[1;32m     33\u001b[0m loss\u001b[38;5;241m.\u001b[39mbackward()\n\u001b[0;32m---> 34\u001b[0m \u001b[43moptimizer\u001b[49m\u001b[38;5;241;43m.\u001b[39;49m\u001b[43mstep\u001b[49m\u001b[43m(\u001b[49m\u001b[43m)\u001b[49m\n\u001b[1;32m     36\u001b[0m \u001b[38;5;28;01mif\u001b[39;00m batch \u001b[38;5;241m%\u001b[39m \u001b[38;5;241m20\u001b[39m \u001b[38;5;241m==\u001b[39m \u001b[38;5;241m0\u001b[39m:\n\u001b[1;32m     37\u001b[0m     iteration \u001b[38;5;241m+\u001b[39m\u001b[38;5;241m=\u001b[39m \u001b[38;5;241m1\u001b[39m\n",
      "File \u001b[0;32m~/cloud-form/lib/python3.10/site-packages/torch/optim/lr_scheduler.py:68\u001b[0m, in \u001b[0;36m_LRScheduler.__init__.<locals>.with_counter.<locals>.wrapper\u001b[0;34m(*args, **kwargs)\u001b[0m\n\u001b[1;32m     66\u001b[0m instance\u001b[38;5;241m.\u001b[39m_step_count \u001b[38;5;241m+\u001b[39m\u001b[38;5;241m=\u001b[39m \u001b[38;5;241m1\u001b[39m\n\u001b[1;32m     67\u001b[0m wrapped \u001b[38;5;241m=\u001b[39m func\u001b[38;5;241m.\u001b[39m\u001b[38;5;21m__get__\u001b[39m(instance, \u001b[38;5;28mcls\u001b[39m)\n\u001b[0;32m---> 68\u001b[0m \u001b[38;5;28;01mreturn\u001b[39;00m \u001b[43mwrapped\u001b[49m\u001b[43m(\u001b[49m\u001b[38;5;241;43m*\u001b[39;49m\u001b[43margs\u001b[49m\u001b[43m,\u001b[49m\u001b[43m \u001b[49m\u001b[38;5;241;43m*\u001b[39;49m\u001b[38;5;241;43m*\u001b[39;49m\u001b[43mkwargs\u001b[49m\u001b[43m)\u001b[49m\n",
      "File \u001b[0;32m~/cloud-form/lib/python3.10/site-packages/torch/optim/optimizer.py:140\u001b[0m, in \u001b[0;36mOptimizer._hook_for_profile.<locals>.profile_hook_step.<locals>.wrapper\u001b[0;34m(*args, **kwargs)\u001b[0m\n\u001b[1;32m    138\u001b[0m profile_name \u001b[38;5;241m=\u001b[39m \u001b[38;5;124m\"\u001b[39m\u001b[38;5;124mOptimizer.step#\u001b[39m\u001b[38;5;132;01m{}\u001b[39;00m\u001b[38;5;124m.step\u001b[39m\u001b[38;5;124m\"\u001b[39m\u001b[38;5;241m.\u001b[39mformat(obj\u001b[38;5;241m.\u001b[39m\u001b[38;5;18m__class__\u001b[39m\u001b[38;5;241m.\u001b[39m\u001b[38;5;18m__name__\u001b[39m)\n\u001b[1;32m    139\u001b[0m \u001b[38;5;28;01mwith\u001b[39;00m torch\u001b[38;5;241m.\u001b[39mautograd\u001b[38;5;241m.\u001b[39mprofiler\u001b[38;5;241m.\u001b[39mrecord_function(profile_name):\n\u001b[0;32m--> 140\u001b[0m     out \u001b[38;5;241m=\u001b[39m \u001b[43mfunc\u001b[49m\u001b[43m(\u001b[49m\u001b[38;5;241;43m*\u001b[39;49m\u001b[43margs\u001b[49m\u001b[43m,\u001b[49m\u001b[43m \u001b[49m\u001b[38;5;241;43m*\u001b[39;49m\u001b[38;5;241;43m*\u001b[39;49m\u001b[43mkwargs\u001b[49m\u001b[43m)\u001b[49m\n\u001b[1;32m    141\u001b[0m     obj\u001b[38;5;241m.\u001b[39m_optimizer_step_code()\n\u001b[1;32m    142\u001b[0m     \u001b[38;5;28;01mreturn\u001b[39;00m out\n",
      "File \u001b[0;32m~/cloud-form/lib/python3.10/site-packages/torch/autograd/grad_mode.py:27\u001b[0m, in \u001b[0;36m_DecoratorContextManager.__call__.<locals>.decorate_context\u001b[0;34m(*args, **kwargs)\u001b[0m\n\u001b[1;32m     24\u001b[0m \u001b[38;5;129m@functools\u001b[39m\u001b[38;5;241m.\u001b[39mwraps(func)\n\u001b[1;32m     25\u001b[0m \u001b[38;5;28;01mdef\u001b[39;00m \u001b[38;5;21mdecorate_context\u001b[39m(\u001b[38;5;241m*\u001b[39margs, \u001b[38;5;241m*\u001b[39m\u001b[38;5;241m*\u001b[39mkwargs):\n\u001b[1;32m     26\u001b[0m     \u001b[38;5;28;01mwith\u001b[39;00m \u001b[38;5;28mself\u001b[39m\u001b[38;5;241m.\u001b[39mclone():\n\u001b[0;32m---> 27\u001b[0m         \u001b[38;5;28;01mreturn\u001b[39;00m \u001b[43mfunc\u001b[49m\u001b[43m(\u001b[49m\u001b[38;5;241;43m*\u001b[39;49m\u001b[43margs\u001b[49m\u001b[43m,\u001b[49m\u001b[43m \u001b[49m\u001b[38;5;241;43m*\u001b[39;49m\u001b[38;5;241;43m*\u001b[39;49m\u001b[43mkwargs\u001b[49m\u001b[43m)\u001b[49m\n",
      "File \u001b[0;32m~/cloud-form/lib/python3.10/site-packages/torch/optim/radam.py:130\u001b[0m, in \u001b[0;36mRAdam.step\u001b[0;34m(self, closure)\u001b[0m\n\u001b[1;32m    127\u001b[0m             exp_avg_sqs\u001b[38;5;241m.\u001b[39mappend(state[\u001b[38;5;124m'\u001b[39m\u001b[38;5;124mexp_avg_sq\u001b[39m\u001b[38;5;124m'\u001b[39m])\n\u001b[1;32m    128\u001b[0m             state_steps\u001b[38;5;241m.\u001b[39mappend(state[\u001b[38;5;124m'\u001b[39m\u001b[38;5;124mstep\u001b[39m\u001b[38;5;124m'\u001b[39m])\n\u001b[0;32m--> 130\u001b[0m     \u001b[43mradam\u001b[49m\u001b[43m(\u001b[49m\u001b[43mparams_with_grad\u001b[49m\u001b[43m,\u001b[49m\n\u001b[1;32m    131\u001b[0m \u001b[43m          \u001b[49m\u001b[43mgrads\u001b[49m\u001b[43m,\u001b[49m\n\u001b[1;32m    132\u001b[0m \u001b[43m          \u001b[49m\u001b[43mexp_avgs\u001b[49m\u001b[43m,\u001b[49m\n\u001b[1;32m    133\u001b[0m \u001b[43m          \u001b[49m\u001b[43mexp_avg_sqs\u001b[49m\u001b[43m,\u001b[49m\n\u001b[1;32m    134\u001b[0m \u001b[43m          \u001b[49m\u001b[43mstate_steps\u001b[49m\u001b[43m,\u001b[49m\n\u001b[1;32m    135\u001b[0m \u001b[43m          \u001b[49m\u001b[43mbeta1\u001b[49m\u001b[38;5;241;43m=\u001b[39;49m\u001b[43mbeta1\u001b[49m\u001b[43m,\u001b[49m\n\u001b[1;32m    136\u001b[0m \u001b[43m          \u001b[49m\u001b[43mbeta2\u001b[49m\u001b[38;5;241;43m=\u001b[39;49m\u001b[43mbeta2\u001b[49m\u001b[43m,\u001b[49m\n\u001b[1;32m    137\u001b[0m \u001b[43m          \u001b[49m\u001b[43mlr\u001b[49m\u001b[38;5;241;43m=\u001b[39;49m\u001b[43mgroup\u001b[49m\u001b[43m[\u001b[49m\u001b[38;5;124;43m'\u001b[39;49m\u001b[38;5;124;43mlr\u001b[39;49m\u001b[38;5;124;43m'\u001b[39;49m\u001b[43m]\u001b[49m\u001b[43m,\u001b[49m\n\u001b[1;32m    138\u001b[0m \u001b[43m          \u001b[49m\u001b[43mweight_decay\u001b[49m\u001b[38;5;241;43m=\u001b[39;49m\u001b[43mgroup\u001b[49m\u001b[43m[\u001b[49m\u001b[38;5;124;43m'\u001b[39;49m\u001b[38;5;124;43mweight_decay\u001b[39;49m\u001b[38;5;124;43m'\u001b[39;49m\u001b[43m]\u001b[49m\u001b[43m,\u001b[49m\n\u001b[1;32m    139\u001b[0m \u001b[43m          \u001b[49m\u001b[43meps\u001b[49m\u001b[38;5;241;43m=\u001b[39;49m\u001b[43mgroup\u001b[49m\u001b[43m[\u001b[49m\u001b[38;5;124;43m'\u001b[39;49m\u001b[38;5;124;43meps\u001b[39;49m\u001b[38;5;124;43m'\u001b[39;49m\u001b[43m]\u001b[49m\u001b[43m,\u001b[49m\n\u001b[1;32m    140\u001b[0m \u001b[43m          \u001b[49m\u001b[43mforeach\u001b[49m\u001b[38;5;241;43m=\u001b[39;49m\u001b[43mgroup\u001b[49m\u001b[43m[\u001b[49m\u001b[38;5;124;43m'\u001b[39;49m\u001b[38;5;124;43mforeach\u001b[39;49m\u001b[38;5;124;43m'\u001b[39;49m\u001b[43m]\u001b[49m\u001b[43m)\u001b[49m\n\u001b[1;32m    142\u001b[0m \u001b[38;5;28;01mreturn\u001b[39;00m loss\n",
      "File \u001b[0;32m~/cloud-form/lib/python3.10/site-packages/torch/optim/radam.py:179\u001b[0m, in \u001b[0;36mradam\u001b[0;34m(params, grads, exp_avgs, exp_avg_sqs, state_steps, foreach, beta1, beta2, lr, weight_decay, eps)\u001b[0m\n\u001b[1;32m    176\u001b[0m \u001b[38;5;28;01melse\u001b[39;00m:\n\u001b[1;32m    177\u001b[0m     func \u001b[38;5;241m=\u001b[39m _single_tensor_radam\n\u001b[0;32m--> 179\u001b[0m \u001b[43mfunc\u001b[49m\u001b[43m(\u001b[49m\u001b[43mparams\u001b[49m\u001b[43m,\u001b[49m\n\u001b[1;32m    180\u001b[0m \u001b[43m     \u001b[49m\u001b[43mgrads\u001b[49m\u001b[43m,\u001b[49m\n\u001b[1;32m    181\u001b[0m \u001b[43m     \u001b[49m\u001b[43mexp_avgs\u001b[49m\u001b[43m,\u001b[49m\n\u001b[1;32m    182\u001b[0m \u001b[43m     \u001b[49m\u001b[43mexp_avg_sqs\u001b[49m\u001b[43m,\u001b[49m\n\u001b[1;32m    183\u001b[0m \u001b[43m     \u001b[49m\u001b[43mstate_steps\u001b[49m\u001b[43m,\u001b[49m\n\u001b[1;32m    184\u001b[0m \u001b[43m     \u001b[49m\u001b[43mbeta1\u001b[49m\u001b[38;5;241;43m=\u001b[39;49m\u001b[43mbeta1\u001b[49m\u001b[43m,\u001b[49m\n\u001b[1;32m    185\u001b[0m \u001b[43m     \u001b[49m\u001b[43mbeta2\u001b[49m\u001b[38;5;241;43m=\u001b[39;49m\u001b[43mbeta2\u001b[49m\u001b[43m,\u001b[49m\n\u001b[1;32m    186\u001b[0m \u001b[43m     \u001b[49m\u001b[43mlr\u001b[49m\u001b[38;5;241;43m=\u001b[39;49m\u001b[43mlr\u001b[49m\u001b[43m,\u001b[49m\n\u001b[1;32m    187\u001b[0m \u001b[43m     \u001b[49m\u001b[43mweight_decay\u001b[49m\u001b[38;5;241;43m=\u001b[39;49m\u001b[43mweight_decay\u001b[49m\u001b[43m,\u001b[49m\n\u001b[1;32m    188\u001b[0m \u001b[43m     \u001b[49m\u001b[43meps\u001b[49m\u001b[38;5;241;43m=\u001b[39;49m\u001b[43meps\u001b[49m\u001b[43m)\u001b[49m\n",
      "File \u001b[0;32m~/cloud-form/lib/python3.10/site-packages/torch/optim/radam.py:220\u001b[0m, in \u001b[0;36m_single_tensor_radam\u001b[0;34m(params, grads, exp_avgs, exp_avg_sqs, state_steps, beta1, beta2, lr, weight_decay, eps)\u001b[0m\n\u001b[1;32m    218\u001b[0m \u001b[38;5;66;03m# Decay the first and second moment running average coefficient\u001b[39;00m\n\u001b[1;32m    219\u001b[0m exp_avg\u001b[38;5;241m.\u001b[39mmul_(beta1)\u001b[38;5;241m.\u001b[39madd_(grad, alpha\u001b[38;5;241m=\u001b[39m\u001b[38;5;241m1\u001b[39m \u001b[38;5;241m-\u001b[39m beta1)\n\u001b[0;32m--> 220\u001b[0m \u001b[43mexp_avg_sq\u001b[49m\u001b[38;5;241;43m.\u001b[39;49m\u001b[43mmul_\u001b[49m\u001b[43m(\u001b[49m\u001b[43mbeta2\u001b[49m\u001b[43m)\u001b[49m\u001b[38;5;241m.\u001b[39maddcmul_(grad, grad, value\u001b[38;5;241m=\u001b[39m\u001b[38;5;241m1\u001b[39m \u001b[38;5;241m-\u001b[39m beta2)\n\u001b[1;32m    222\u001b[0m \u001b[38;5;66;03m# correcting bias for the first moving moment\u001b[39;00m\n\u001b[1;32m    223\u001b[0m bias_corrected_exp_avg \u001b[38;5;241m=\u001b[39m exp_avg \u001b[38;5;241m/\u001b[39m bias_correction1\n",
      "\u001b[0;31mKeyboardInterrupt\u001b[0m: "
     ]
    },
    {
     "data": {
      "image/png": "[encoded data removed]",
      "text/plain": [
       "<Figure size 640x480 with 2 Axes>"
      ]
     },
     "metadata": {},
     "output_type": "display_data"
    }
   ],
   "source": [
    "from torch.utils.data import DataLoader\n",
    "from sklearn.metrics import f1_score\n",
    "import time\n",
    "import matplotlib.pyplot as plt\n",
    "from IPython import display\n",
    "import time\n",
    "\n",
    "max_f1_score = 0\n",
    "max_f1_score_model_name = ''\n",
    "model_f1_set = []\n",
    "model_avg_loss_set = []\n",
    "iteration = 0\n",
    "train_loss_set = []\n",
    "timestamp = time.time()\n",
    "\n",
    "f, (ax1, ax2) = plt.subplots(1, 2, sharey=True)\n",
    "\n",
    "\n",
    "for epoch in range(epochs):\n",
    "    \n",
    "    train_set, val_set = train_dataset, val_dataset\n",
    "    train_dataloader =  DataLoader(train_set, batch_size=batch_size, shuffle=True, num_workers=8)\n",
    "    val_dataloader = DataLoader(val_set, batch_size=batch_size, shuffle=False, num_workers=8)\n",
    "    size = len(train_dataloader.dataset)\n",
    "    model.train()\n",
    "    for batch, (X, y) in enumerate(train_dataloader):\n",
    "        X = X.to(device)\n",
    "        y = y.to(device)\n",
    "        pred = model(X)\n",
    "        loss = loss_fn(pred, y)\n",
    "\n",
    "        optimizer.zero_grad()\n",
    "        loss.backward()\n",
    "        optimizer.step()\n",
    "\n",
    "        if batch % 20 == 0:\n",
    "            iteration += 1\n",
    "            loss, current = loss.item(), batch * batch_size\n",
    "            train_loss_set.append(loss)\n",
    "            ax1.clear()\n",
    "            ax1.set_title('Train Loss')\n",
    "            ax1.plot([20 * _ for _ in range(iteration)], train_loss_set, label=\"loss\")\n",
    "            display.clear_output(wait=True)\n",
    "            display.display(f)\n",
    "    test_loss, correct = 0, 0\n",
    "    size = len(val_dataloader.dataset)\n",
    "    num_batches = len(val_dataloader)\n",
    "    if epoch < 14:\n",
    "        scheduler.step()\n",
    "    model.eval()\n",
    "    with torch.no_grad():\n",
    "        pred_set = torch.tensor([])\n",
    "        y_set = torch.tensor([])\n",
    "        for X, y in val_dataloader:\n",
    "            X = X.to(device)\n",
    "            y = y.to(device)\n",
    "            pred = model(X)\n",
    "            test_loss += loss_fn(pred, y).item()\n",
    "            pred_set = torch.cat((pred_set, pred.cpu()), 0)\n",
    "            y_set = torch.cat((y_set, y.cpu()), 0)\n",
    "            correct += (pred.argmax(1) == y.argmax(1)).type(torch.float).sum().item()\n",
    "    test_loss /= num_batches\n",
    "    correct /= size\n",
    "    f1 = f1_score(pred_set.argmax(1), y_set.argmax(1), average=None).sum().item() / cloud_num\n",
    "    if f1 > max_f1_score:\n",
    "        max_f1_score = f1\n",
    "        max_f1_score_model_name = f'./model_state_dict/model-{batch_size}-{focal_loss_gmma}-{model_name}-epoch{epoch}-optimizer{optimizer_name}-scheduler{scheduler_name}-f1-score{f1}'\n",
    "    torch.save(model.state_dict(), f'./model_state_dict/model-{batch_size}-{focal_loss_gmma}-{model_name}-epoch{epoch}-optimizer{optimizer_name}-scheduler{scheduler_name}-f1-score{f1}')\n",
    "    log_file = open(f'./log/log-{batch_size}-{focal_loss_gmma}-{model_name}-optimizer{optimizer_name}-scheduler{scheduler_name}-time{timestamp}.txt', 'a')\n",
    "    print(f'epoch {epoch}---------------------------', file=log_file)\n",
    "    model_f1_set.append(f1)\n",
    "    model_avg_loss_set.append(test_loss)\n",
    "    ax2.clear()\n",
    "    ax2.plot(range(epoch + 1), model_f1_set, label=\"f1 score\")\n",
    "    ax2.plot(range(epoch + 1), model_avg_loss_set, label=\"avg loss\")\n",
    "    ax2.legend()\n",
    "    ax2.set_title('Test Loss&F1')\n",
    "    display.clear_output(wait=True)\n",
    "    display.display(f)\n",
    "    print(f\"Val: \\n Accuracy: {(100*correct):>0.1f}%, f1_score: {f1:>8f} Avg loss: {test_loss:>8f} \\n\", file=log_file)\n",
    "    log_file.close()"
   ]
  },
  {
   "cell_type": "code",
   "execution_count": 10,
   "id": "fadbbebf-8af9-4714-843f-af861e473b64",
   "metadata": {},
   "outputs": [],
   "source": [
    "test_dataset_df = pandas.read_csv('/home/codefor/cloud-form/cloud_dataset/test.csv').T\n",
    "test_image_name_set = []\n",
    "for k, v in test_dataset_df.to_dict().items():\n",
    "    test_image_name_set.append(v['FileName'])"
   ]
  },
  {
   "cell_type": "code",
   "execution_count": 11,
   "id": "32752898-0742-4af8-89e8-88271a9eb34c",
   "metadata": {},
   "outputs": [],
   "source": [
    "class CloudImageDataSetForTest(Dataset):\n",
    "    def __init__(self, img_dir_path, img_set: list, data_transforms=None, dataset = ''):\n",
    "        self.imgs = img_set\n",
    "        self.data_transforms = data_transforms\n",
    "        self.img_dir_path = img_dir_path\n",
    "        self.dataset = dataset\n",
    "        \n",
    "    def __len__(self):\n",
    "        return len(self.imgs)\n",
    "    \n",
    "    def __getitem__(self, k):\n",
    "        img_name = self.imgs[k]\n",
    "        img_path = os.path.join(self.img_dir_path, img_name)\n",
    "        with open(img_path, 'rb') as img_file:\n",
    "            img = Image.open(img_file)\n",
    "            img = img.convert('RGB')\n",
    "        img_file.close()\n",
    "        return self.data_transforms[self.dataset](img)"
   ]
  },
  {
   "cell_type": "code",
   "execution_count": 13,
   "id": "b9438d2f-f6aa-4c53-87d3-205555f78997",
   "metadata": {},
   "outputs": [],
   "source": [
    "from torch.utils.data import DataLoader\n",
    "test_dataset = CloudImageDataSetForTest('./cloud_dataset/images/', test_image_name_set, data_transforms, 'Test')\n",
    "test_dataloader = DataLoader(test_dataset, batch_size=batch_size, shuffle=False, num_workers=8)"
   ]
  },
  {
   "cell_type": "code",
   "execution_count": 14,
   "id": "9a9eae17-0208-4a8b-8446-97470c7a9c20",
   "metadata": {},
   "outputs": [],
   "source": [
    "model.load_state_dict(torch.load('./model_state_dict/model-64-2.0-resnet-50-epoch55-optimizerradam-schedulercosine_annealing_warm_restarts-f1-score0.40507934810646234'))\n",
    "pred_set = torch.tensor([])\n",
    "with torch.no_grad():\n",
    "    model.eval()\n",
    "    pred_set = torch.tensor([])\n",
    "    for X in test_dataloader:\n",
    "        X = X.to(device)\n",
    "        pred = model(X)\n",
    "        pred_set = torch.cat((pred_set, pred.cpu().argmax(1) + 1), 0)\n"
   ]
  },
  {
   "cell_type": "code",
   "execution_count": 19,
   "id": "f2ad7fe0-bce9-4176-91c2-cd99bed3648b",
   "metadata": {},
   "outputs": [],
   "source": [
    "submission = zip(test_image_name_set, pred_set.int().tolist())\n",
    "submission = dict(submission)\n",
    "submission = pandas.DataFrame([submission]).T\n",
    "submission.to_csv('./cloud_dataset/submission.csv')"
   ]
  },
  {
   "cell_type": "code",
   "execution_count": 20,
   "id": "cc1e7e47-d7fa-4b2b-a7b3-2fda6475707e",
   "metadata": {},
   "outputs": [
    {
     "data": {
      "text/plain": [
       "0.40507934810646234"
      ]
     },
     "execution_count": 20,
     "metadata": {},
     "output_type": "execute_result"
    }
   ],
   "source": [
    "max_f1_score"
   ]
  },
  {
   "cell_type": "code",
   "execution_count": 17,
   "id": "96cd7a39-090d-47af-9138-52219c8689d0",
   "metadata": {},
   "outputs": [],
   "source": [
    "from sklearn.metrics import f1_score\n",
    "y_set = torch.tensor(val_dataset.labels)\n",
    "f1 = f1_score(pred_set, y_set, average=None).sum().item() / cloud_num"
   ]
  },
  {
   "cell_type": "code",
   "execution_count": 22,
   "id": "5800f99b-b3ff-43de-802a-f85295b60087",
   "metadata": {},
   "outputs": [],
   "source": [
    "y_set = torch.tensor([])\n",
    "pred_set = torch.tensor([])\n",
    "val_dataloader = DataLoader(val_dataset, batch_size=batch_size, shuffle=False, num_workers=8)\n",
    "model.eval()\n",
    "with torch.no_grad():\n",
    "    pred_set = torch.tensor([])\n",
    "    y_set = torch.tensor([])\n",
    "    for X, y in val_dataloader:\n",
    "        X = X.to(device)\n",
    "        y = y.to(device)\n",
    "        pred = model(X)\n",
    "        pred_set = torch.cat((pred_set, pred.cpu()), 0)\n",
    "        y_set = torch.cat((y_set, y.cpu()), 0)\n",
    "f1 = f1_score(pred_set.argmax(1), y_set.argmax(1), average=None).sum().item() / cloud_num"
   ]
  },
  {
   "cell_type": "code",
   "execution_count": 25,
   "id": "309a6703-58ae-4b97-903b-5ba2735db02a",
   "metadata": {},
   "outputs": [
    {
     "data": {
      "text/plain": [
       "tensor([ 7,  7,  7,  ..., 12, 12, 12])"
      ]
     },
     "execution_count": 25,
     "metadata": {},
     "output_type": "execute_result"
    }
   ],
   "source": [
    "y_set.argmax(1)"
   ]
  },
  {
   "cell_type": "code",
   "execution_count": 26,
   "id": "9b27cab1-2a65-4aeb-9cb6-0174c2b86529",
   "metadata": {},
   "outputs": [
    {
     "data": {
      "text/plain": [
       "tensor([ 7,  7,  7,  ..., 12, 24,  1])"
      ]
     },
     "execution_count": 26,
     "metadata": {},
     "output_type": "execute_result"
    }
   ],
   "source": [
    "pred_set.argmax(1)"
   ]
  },
  {
   "cell_type": "code",
   "execution_count": null,
   "id": "e861e3af-62f6-453a-b3c7-b9da130894ce",
   "metadata": {},
   "outputs": [],
   "source": []
  }
 ],
 "metadata": {
  "kernelspec": {
   "display_name": "Python 3 (ipykernel)",
   "language": "python",
   "name": "python3"
  },
  "language_info": {
   "codemirror_mode": {
    "name": "ipython",
    "version": 3
   },
   "file_extension": ".py",
   "mimetype": "text/x-python",
   "name": "python",
   "nbconvert_exporter": "python",
   "pygments_lexer": "ipython3",
   "version": "3.10.6"
  }
 },
 "nbformat": 4,
 "nbformat_minor": 5
}
